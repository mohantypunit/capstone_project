{
 "cells": [
  {
   "cell_type": "markdown",
   "metadata": {},
   "source": [
    "# Deciding neighborhood to live in Aachen depending on age group"
   ]
  },
  {
   "cell_type": "markdown",
   "metadata": {},
   "source": [
    "### Business Problem"
   ]
  },
  {
   "cell_type": "markdown",
   "metadata": {},
   "source": [
    "The problem statement is to find a suitable Stadtbezirke (municipalities) to live in Aachen depending on age group by analyzing venues in that region."
   ]
  },
  {
   "cell_type": "markdown",
   "metadata": {},
   "source": [
    "### Data "
   ]
  },
  {
   "cell_type": "markdown",
   "metadata": {},
   "source": [
    "The data to be used for this problem will be as follows:\n",
    "\n",
    "1. wikipedia (https://de.wikipedia.org/wiki/Stadtbezirke_Aachens)\n",
    "    * it will be used to collect names of different municipality regions in Aachen city and coordinates will be aquired to retrieve foursquare location data.\n",
    "2. foursquare location data\n",
    "    * The information of different business venues along with public services like parks, hospitals, universities.\n",
    "    * All the venue information can be used to cluster the municipalities into different requirements for specific age groups.\n",
    "     e.g: people in the age group 15-30 like clubing and go to university. so the areas having more clubs and university buildings will choose that place for their residence. Similarly older people above age 50 will like to have park and medical facilities close to their residence. "
   ]
  }
 ],
 "metadata": {
  "kernelspec": {
   "display_name": "Python 3",
   "language": "python",
   "name": "python3"
  },
  "language_info": {
   "codemirror_mode": {
    "name": "ipython",
    "version": 3
   },
   "file_extension": ".py",
   "mimetype": "text/x-python",
   "name": "python",
   "nbconvert_exporter": "python",
   "pygments_lexer": "ipython3",
   "version": "3.7.6"
  }
 },
 "nbformat": 4,
 "nbformat_minor": 4
}
